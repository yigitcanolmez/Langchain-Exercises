{
 "cells": [
  {
   "cell_type": "code",
   "execution_count": null,
   "metadata": {},
   "outputs": [],
   "source": [
    "%pip install -U langchain-community langgraph langchain-anthropic tavily-python langgraph-checkpoint-sqlite"
   ]
  },
  {
   "cell_type": "code",
   "execution_count": 2,
   "metadata": {},
   "outputs": [],
   "source": [
    "import getpass\n",
    "import os\n",
    "\n",
    "os.environ[\"LANGCHAIN_TRACING_V2\"] = \"true\"\n",
    "os.environ[\"LANGCHAIN_API_KEY\"] = getpass.getpass()"
   ]
  },
  {
   "cell_type": "code",
   "execution_count": 3,
   "metadata": {},
   "outputs": [],
   "source": [
    "import getpass\n",
    "import os\n",
    "\n",
    "os.environ[\"TAVILY_API_KEY\"] = getpass.getpass()"
   ]
  },
  {
   "cell_type": "code",
   "execution_count": 4,
   "metadata": {},
   "outputs": [
    {
     "name": "stdout",
     "output_type": "stream",
     "text": [
      "[{'url': 'https://www.cnnturk.com/spor/futbol/galeri/son-dakika-transfer-haberi-sofyan-amrabat-fenerbahce-icin-istanbula-ucuyor-iste-gelis-saati-2147458', 'content': \"Ferdi transferinin ardından büyük bir gelir elde eden Fenerbahçe merkez orta saha transferinde mutlu sona ulaştı, 6 numara transferini bitirdi. Sarı-lacivertlilerin, Sofyan Amrabat'ın transferi için Serie A ekibi Fiorentina ile anlaşmaya vardı. Sofyan Amrabat 21 Ağustos 1996 yılında ...\"}]\n"
     ]
    }
   ],
   "source": [
    "from langchain_community.tools.tavily_search import TavilySearchResults\n",
    "\n",
    "search = TavilySearchResults(max_results=1)\n",
    "search_results = search.invoke(\"Amrabat Fenerbahçe'ye transfer oldu mu?\")\n",
    "print(search_results)\n",
    "\n",
    "tools = [search]\n"
   ]
  },
  {
   "cell_type": "code",
   "execution_count": 5,
   "metadata": {},
   "outputs": [
    {
     "name": "stdout",
     "output_type": "stream",
     "text": [
      "Note: you may need to restart the kernel to use updated packages.\n"
     ]
    }
   ],
   "source": [
    "pip install -qU langchain-openai"
   ]
  },
  {
   "cell_type": "code",
   "execution_count": 8,
   "metadata": {},
   "outputs": [],
   "source": [
    "import getpass\n",
    "import os\n",
    "\n",
    "os.environ[\"OPENAI_API_KEY\"] = getpass.getpass()\n",
    "\n",
    "from langchain_openai import ChatOpenAI\n",
    "\n",
    "model = ChatOpenAI(model=\"gpt-4o\")"
   ]
  },
  {
   "cell_type": "code",
   "execution_count": 9,
   "metadata": {},
   "outputs": [
    {
     "data": {
      "text/plain": [
       "'Hello! How can I assist you today?'"
      ]
     },
     "execution_count": 9,
     "metadata": {},
     "output_type": "execute_result"
    }
   ],
   "source": [
    "from langchain_core.messages import HumanMessage\n",
    "\n",
    "response = model.invoke([HumanMessage(content=\"hi!\")])\n",
    "response.content"
   ]
  },
  {
   "cell_type": "code",
   "execution_count": 10,
   "metadata": {},
   "outputs": [],
   "source": [
    "model_with_tools = model.bind_tools(tools)"
   ]
  },
  {
   "cell_type": "code",
   "execution_count": 11,
   "metadata": {},
   "outputs": [
    {
     "name": "stdout",
     "output_type": "stream",
     "text": [
      "ContentString: Hello! How can I assist you today?\n",
      "ToolCalls: []\n"
     ]
    }
   ],
   "source": [
    "response = model_with_tools.invoke([HumanMessage(content=\"Hi!\")])\n",
    "\n",
    "print(f\"ContentString: {response.content}\")\n",
    "print(f\"ToolCalls: {response.tool_calls}\")"
   ]
  },
  {
   "cell_type": "code",
   "execution_count": 12,
   "metadata": {},
   "outputs": [
    {
     "name": "stdout",
     "output_type": "stream",
     "text": [
      "ContentString: \n",
      "ToolCalls: [{'name': 'tavily_search_results_json', 'args': {'query': 'Sofyan Amrabat Fenerbahçe transfer'}, 'id': 'call_mEnXtIl0zACr55jeVTpjZmmy', 'type': 'tool_call'}]\n"
     ]
    }
   ],
   "source": [
    "response = model_with_tools.invoke([HumanMessage(content=\"Sofyan Amrabat Fenerbahçe'ye transfer oldu mu?\")])\n",
    "\n",
    "print(f\"ContentString: {response.content}\")\n",
    "print(f\"ToolCalls: {response.tool_calls}\")"
   ]
  },
  {
   "cell_type": "code",
   "execution_count": 14,
   "metadata": {},
   "outputs": [],
   "source": [
    "from langgraph.prebuilt import create_react_agent\n",
    "agent_executor = create_react_agent(model, tools)"
   ]
  },
  {
   "cell_type": "code",
   "execution_count": 15,
   "metadata": {},
   "outputs": [
    {
     "data": {
      "text/plain": [
       "[HumanMessage(content='hi!', id='1ad57d9f-6c75-4d98-95f0-3ad4c28cef9c'),\n",
       " AIMessage(content='Hello! How can I assist you today?', additional_kwargs={'refusal': None}, response_metadata={'token_usage': {'completion_tokens': 10, 'prompt_tokens': 81, 'total_tokens': 91}, 'model_name': 'gpt-4o-2024-05-13', 'system_fingerprint': 'fp_157b3831f5', 'finish_reason': 'stop', 'logprobs': None}, id='run-6db81f07-b1ae-4e3b-b9f4-804f9f9c25ad-0', usage_metadata={'input_tokens': 81, 'output_tokens': 10, 'total_tokens': 91})]"
      ]
     },
     "execution_count": 15,
     "metadata": {},
     "output_type": "execute_result"
    }
   ],
   "source": [
    "response = agent_executor.invoke({\"messages\": [HumanMessage(content=\"hi!\")]})\n",
    "\n",
    "response[\"messages\"]"
   ]
  },
  {
   "cell_type": "code",
   "execution_count": 16,
   "metadata": {},
   "outputs": [
    {
     "data": {
      "text/plain": [
       "[HumanMessage(content=\"Sofyan Amrabat Fenerbahçe'ye transfer oldu mu?\", id='4b8338b3-1d78-4ff2-85d6-e4853eeea1e2'),\n",
       " AIMessage(content='', additional_kwargs={'tool_calls': [{'id': 'call_mMc1NncoXlxbYt1muzJ2vzuE', 'function': {'arguments': '{\"query\":\"Sofyan Amrabat Fenerbahçe\\'ye transfer oldu mu\"}', 'name': 'tavily_search_results_json'}, 'type': 'function'}], 'refusal': None}, response_metadata={'token_usage': {'completion_tokens': 32, 'prompt_tokens': 95, 'total_tokens': 127}, 'model_name': 'gpt-4o-2024-05-13', 'system_fingerprint': 'fp_157b3831f5', 'finish_reason': 'tool_calls', 'logprobs': None}, id='run-6547e154-01b8-4062-bb2f-7e1c115de95e-0', tool_calls=[{'name': 'tavily_search_results_json', 'args': {'query': \"Sofyan Amrabat Fenerbahçe'ye transfer oldu mu\"}, 'id': 'call_mMc1NncoXlxbYt1muzJ2vzuE', 'type': 'tool_call'}], usage_metadata={'input_tokens': 95, 'output_tokens': 32, 'total_tokens': 127}),\n",
       " ToolMessage(content='[{\"url\": \"https://beinsports.com.tr/haber/sofyan-amrabattan-galatasaray-cevabi\", \"content\": \"Trendyol S\\\\u00fcper Lig ekiplerinden Fenerbah\\\\u00e7e\\'nin yeni transferi Sofyan Amrabat, imza t\\\\u00f6reninde bas\\\\u0131n mensuplar\\\\u0131n\\\\u0131n sorular\\\\u0131n\\\\u0131 yan\\\\u0131tlad\\\\u0131. Fenerbah\\\\u00e7e\\'ye geldi\\\\u011fi i\\\\u00e7in mutlu ve gururlu oldu\\\\u011funu s\\\\u00f6yleyen Fasl\\\\u0131 oyuncu, transfer g\\\\u00f6r\\\\u00fc\\\\u015fmelerinin a\\\\u015flad\\\\u0131\\\\u011f\\\\u0131 ilk andan itibaren kendisini kul\\\\u00fcb\\\\u00fcn bir par\\\\u00e7as\\\\u0131 olarak hissetti\\\\u011fini ifade ...\"}]', name='tavily_search_results_json', id='296dfe23-ffb7-4edd-8f39-74aed3199ccd', tool_call_id='call_mMc1NncoXlxbYt1muzJ2vzuE', artifact={'query': \"Sofyan Amrabat Fenerbahçe'ye transfer oldu mu\", 'follow_up_questions': None, 'answer': None, 'images': [], 'results': [{'title': \"Sofyan Amrabat'tan Galatasaray cevabı! - beIN SPORTS\", 'url': 'https://beinsports.com.tr/haber/sofyan-amrabattan-galatasaray-cevabi', 'content': \"Trendyol Süper Lig ekiplerinden Fenerbahçe'nin yeni transferi Sofyan Amrabat, imza töreninde basın mensuplarının sorularını yanıtladı. Fenerbahçe'ye geldiği için mutlu ve gururlu olduğunu söyleyen Faslı oyuncu, transfer görüşmelerinin aşladığı ilk andan itibaren kendisini kulübün bir parçası olarak hissettiğini ifade ...\", 'score': 0.9998013, 'raw_content': None}], 'response_time': 2.12}),\n",
       " AIMessage(content=\"Evet, Sofyan Amrabat Fenerbahçe'ye transfer oldu. Transfer sonrası düzenlenen imza töreninde, Fenerbahçe'ye geldiği için mutlu ve gururlu olduğunu belirtti.\", additional_kwargs={'refusal': None}, response_metadata={'token_usage': {'completion_tokens': 47, 'prompt_tokens': 357, 'total_tokens': 404}, 'model_name': 'gpt-4o-2024-05-13', 'system_fingerprint': 'fp_157b3831f5', 'finish_reason': 'stop', 'logprobs': None}, id='run-d151c6d7-e28b-4c02-b683-992a39a299c9-0', usage_metadata={'input_tokens': 357, 'output_tokens': 47, 'total_tokens': 404})]"
      ]
     },
     "execution_count": 16,
     "metadata": {},
     "output_type": "execute_result"
    }
   ],
   "source": [
    "response = agent_executor.invoke(\n",
    "    {\"messages\": [HumanMessage(content=\"Sofyan Amrabat Fenerbahçe'ye transfer oldu mu?\")]}\n",
    ")\n",
    "response[\"messages\"]"
   ]
  }
 ],
 "metadata": {
  "kernelspec": {
   "display_name": "Python 3",
   "language": "python",
   "name": "python3"
  },
  "language_info": {
   "codemirror_mode": {
    "name": "ipython",
    "version": 3
   },
   "file_extension": ".py",
   "mimetype": "text/x-python",
   "name": "python",
   "nbconvert_exporter": "python",
   "pygments_lexer": "ipython3",
   "version": "3.12.4"
  }
 },
 "nbformat": 4,
 "nbformat_minor": 2
}
