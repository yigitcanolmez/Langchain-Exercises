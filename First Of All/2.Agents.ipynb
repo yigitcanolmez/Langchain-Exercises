{
 "cells": [
  {
   "cell_type": "code",
   "execution_count": null,
   "metadata": {},
   "outputs": [],
   "source": [
    "%pip install -U langchain-community langgraph langchain-anthropic tavily-python langgraph-checkpoint-sqlite"
   ]
  },
  {
   "cell_type": "code",
   "execution_count": 2,
   "metadata": {},
   "outputs": [],
   "source": [
    "import getpass\n",
    "import os\n",
    "\n",
    "os.environ[\"LANGCHAIN_TRACING_V2\"] = \"true\"\n",
    "os.environ[\"LANGCHAIN_API_KEY\"] = getpass.getpass()"
   ]
  },
  {
   "cell_type": "code",
   "execution_count": 3,
   "metadata": {},
   "outputs": [],
   "source": [
    "import getpass\n",
    "import os\n",
    "\n",
    "os.environ[\"TAVILY_API_KEY\"] = getpass.getpass()"
   ]
  },
  {
   "cell_type": "code",
   "execution_count": 17,
   "metadata": {},
   "outputs": [
    {
     "name": "stdout",
     "output_type": "stream",
     "text": [
      "[{'url': 'https://www.ntvspor.net/futbol/fenerbahce-nin-resmen-acikladigi-sofyan-amrabat-istanbul-a-geldi-66d1affaec7add04396e0ab4', 'content': 'Fenerbahçe\\'den transfere dair yapılan açıklamada, \"Kulübümüz, ACF Fiorentina forması giyen Sofyan Amrabat\\'ın geçici transferi konusunda kulübü ve oyuncuyla prensip anlaşmasına varmıştır. Sofyan Amrabat sağlık kontrolleri ve ileri transfer görüşmeleri için bugün İstanbul\\'a gelecektir\" denildi.'}]\n"
     ]
    }
   ],
   "source": [
    "from langchain_community.tools.tavily_search import TavilySearchResults\n",
    "\n",
    "search = TavilySearchResults(max_results=1)\n",
    "search_results = search.invoke(\"Amrabat Fenerbahçe'ye transfer oldu mu?\")\n",
    "print(search_results)\n",
    "\n",
    "tools = [search]\n"
   ]
  },
  {
   "cell_type": "code",
   "execution_count": null,
   "metadata": {},
   "outputs": [],
   "source": [
    "pip install -qU langchain-openai"
   ]
  },
  {
   "cell_type": "code",
   "execution_count": 8,
   "metadata": {},
   "outputs": [],
   "source": [
    "import getpass\n",
    "import os\n",
    "\n",
    "os.environ[\"OPENAI_API_KEY\"] = getpass.getpass()\n",
    "\n",
    "from langchain_openai import ChatOpenAI\n",
    "\n",
    "model = ChatOpenAI(model=\"gpt-4o\")"
   ]
  },
  {
   "cell_type": "code",
   "execution_count": 19,
   "metadata": {},
   "outputs": [
    {
     "data": {
      "text/plain": [
       "AIMessage(content='Hello! How can I assist you today?', additional_kwargs={'refusal': None}, response_metadata={'token_usage': {'completion_tokens': 9, 'prompt_tokens': 9, 'total_tokens': 18}, 'model_name': 'gpt-4o-2024-05-13', 'system_fingerprint': 'fp_fde2829a40', 'finish_reason': 'stop', 'logprobs': None}, id='run-6f531129-2c53-42d6-a839-54be1418fe36-0', usage_metadata={'input_tokens': 9, 'output_tokens': 9, 'total_tokens': 18})"
      ]
     },
     "execution_count": 19,
     "metadata": {},
     "output_type": "execute_result"
    }
   ],
   "source": [
    "from langchain_core.messages import HumanMessage\n",
    "\n",
    "response = model.invoke([HumanMessage(content=\"hi!\")])\n",
    "response"
   ]
  },
  {
   "cell_type": "code",
   "execution_count": 10,
   "metadata": {},
   "outputs": [],
   "source": [
    "model_with_tools = model.bind_tools(tools)"
   ]
  },
  {
   "cell_type": "code",
   "execution_count": 20,
   "metadata": {},
   "outputs": [
    {
     "name": "stdout",
     "output_type": "stream",
     "text": [
      "ContentString: Hello! How can I assist you today?\n",
      "ToolCalls: []\n"
     ]
    }
   ],
   "source": [
    "response = model_with_tools.invoke([HumanMessage(content=\"Hi!\")])\n",
    "\n",
    "print(f\"ContentString: {response.content}\")\n",
    "print(f\"ToolCalls: {response.tool_calls}\")"
   ]
  },
  {
   "cell_type": "code",
   "execution_count": 21,
   "metadata": {},
   "outputs": [
    {
     "name": "stdout",
     "output_type": "stream",
     "text": [
      "ContentString: \n",
      "ToolCalls: [{'name': 'tavily_search_results_json', 'args': {'query': 'Sofyan Amrabat Fenerbahçe transfer'}, 'id': 'call_iR96JGTBCoFwnA3nvh1AHWyG', 'type': 'tool_call'}]\n"
     ]
    }
   ],
   "source": [
    "response = model_with_tools.invoke([HumanMessage(content=\"Sofyan Amrabat Fenerbahçe'ye transfer oldu mu?\")])\n",
    "\n",
    "print(f\"ContentString: {response.content}\")\n",
    "print(f\"ToolCalls: {response.tool_calls}\")"
   ]
  },
  {
   "cell_type": "code",
   "execution_count": 14,
   "metadata": {},
   "outputs": [],
   "source": [
    "from langgraph.prebuilt import create_react_agent\n",
    "agent_executor = create_react_agent(model, tools)"
   ]
  },
  {
   "cell_type": "code",
   "execution_count": 22,
   "metadata": {},
   "outputs": [
    {
     "data": {
      "text/plain": [
       "[HumanMessage(content='hi!', id='9b58d918-aeb0-49d5-8e7e-c7de51a355fa'),\n",
       " AIMessage(content='Hello! How can I assist you today?', additional_kwargs={'refusal': None}, response_metadata={'token_usage': {'completion_tokens': 10, 'prompt_tokens': 81, 'total_tokens': 91}, 'model_name': 'gpt-4o-2024-05-13', 'system_fingerprint': 'fp_157b3831f5', 'finish_reason': 'stop', 'logprobs': None}, id='run-809eee64-8151-4ea4-a61e-49a87ad61d48-0', usage_metadata={'input_tokens': 81, 'output_tokens': 10, 'total_tokens': 91})]"
      ]
     },
     "execution_count": 22,
     "metadata": {},
     "output_type": "execute_result"
    }
   ],
   "source": [
    "response = agent_executor.invoke({\"messages\": [HumanMessage(content=\"hi!\")]})\n",
    "\n",
    "response[\"messages\"]"
   ]
  },
  {
   "cell_type": "code",
   "execution_count": 23,
   "metadata": {},
   "outputs": [
    {
     "data": {
      "text/plain": [
       "[HumanMessage(content=\"Sofyan Amrabat Fenerbahçe'ye transfer oldu mu? Olduysa ne zaman oldu?\", id='435a0a87-3642-43db-bf38-8dd69860d55f'),\n",
       " AIMessage(content='', additional_kwargs={'tool_calls': [{'id': 'call_hr4AEu6P9wbcAzeMu7hqvsj3', 'function': {'arguments': '{\"query\":\"Sofyan Amrabat Fenerbahçe\\'ye transfer oldu mu?\"}', 'name': 'tavily_search_results_json'}, 'type': 'function'}], 'refusal': None}, response_metadata={'token_usage': {'completion_tokens': 33, 'prompt_tokens': 102, 'total_tokens': 135}, 'model_name': 'gpt-4o-2024-05-13', 'system_fingerprint': 'fp_157b3831f5', 'finish_reason': 'tool_calls', 'logprobs': None}, id='run-c03ceb70-f8cc-4533-b399-4f30b72bbd2b-0', tool_calls=[{'name': 'tavily_search_results_json', 'args': {'query': \"Sofyan Amrabat Fenerbahçe'ye transfer oldu mu?\"}, 'id': 'call_hr4AEu6P9wbcAzeMu7hqvsj3', 'type': 'tool_call'}], usage_metadata={'input_tokens': 102, 'output_tokens': 33, 'total_tokens': 135}),\n",
       " ToolMessage(content='[{\"url\": \"https://www.cnnturk.com/spor/futbol/galeri/son-dakika-transfer-haberi-sofyan-amrabat-fenerbahce-icin-istanbula-ucuyor-iste-gelis-saati-2147458\", \"content\": \"Ferdi transferinin ard\\\\u0131ndan b\\\\u00fcy\\\\u00fck bir gelir elde eden Fenerbah\\\\u00e7e merkez orta saha transferinde mutlu sona ula\\\\u015ft\\\\u0131, 6 numara transferini bitirdi. Sar\\\\u0131-lacivertlilerin, Sofyan Amrabat\\'\\\\u0131n transferi i\\\\u00e7in Serie A ekibi Fiorentina ile anla\\\\u015fmaya vard\\\\u0131. Sofyan Amrabat 21 A\\\\u011fustos 1996 y\\\\u0131l\\\\u0131nda ...\"}]', name='tavily_search_results_json', id='e3d8faf7-0550-49ad-b56a-084f5d895976', tool_call_id='call_hr4AEu6P9wbcAzeMu7hqvsj3', artifact={'query': \"Sofyan Amrabat Fenerbahçe'ye transfer oldu mu?\", 'follow_up_questions': None, 'answer': None, 'images': [], 'results': [{'title': \"Son Dakika Transfer Haberi | Sofyan Amrabat, Fenerbahçe için İstanbul'a ...\", 'url': 'https://www.cnnturk.com/spor/futbol/galeri/son-dakika-transfer-haberi-sofyan-amrabat-fenerbahce-icin-istanbula-ucuyor-iste-gelis-saati-2147458', 'content': \"Ferdi transferinin ardından büyük bir gelir elde eden Fenerbahçe merkez orta saha transferinde mutlu sona ulaştı, 6 numara transferini bitirdi. Sarı-lacivertlilerin, Sofyan Amrabat'ın transferi için Serie A ekibi Fiorentina ile anlaşmaya vardı. Sofyan Amrabat 21 Ağustos 1996 yılında ...\", 'score': 0.9982522, 'raw_content': None}], 'response_time': 2.27}),\n",
       " AIMessage(content=\"Elde edilen bilgilere göre, Sofyan Amrabat'ın Fenerbahçe'ye transferi için Fiorentina ile anlaşmaya varılmıştır. Ancak, transferin kesinleştiği ve tamamlandığı tarih hakkında net bir bilgi verilmemiştir. Daha fazla detay için güncel transfer haberlerine göz atmanız faydalı olabilir.\", additional_kwargs={'refusal': None}, response_metadata={'token_usage': {'completion_tokens': 72, 'prompt_tokens': 339, 'total_tokens': 411}, 'model_name': 'gpt-4o-2024-05-13', 'system_fingerprint': 'fp_fde2829a40', 'finish_reason': 'stop', 'logprobs': None}, id='run-1eef00bc-248c-4d0d-bebf-9014417280cc-0', usage_metadata={'input_tokens': 339, 'output_tokens': 72, 'total_tokens': 411})]"
      ]
     },
     "execution_count": 23,
     "metadata": {},
     "output_type": "execute_result"
    }
   ],
   "source": [
    "response = agent_executor.invoke(\n",
    "    {\"messages\": [HumanMessage(content=\"Sofyan Amrabat Fenerbahçe'ye transfer oldu mu? Olduysa ne zaman oldu?\")]}\n",
    ")\n",
    "response[\"messages\"]"
   ]
  },
  {
   "cell_type": "code",
   "execution_count": 24,
   "metadata": {},
   "outputs": [],
   "source": [
    "from langgraph.checkpoint.memory import MemorySaver\n",
    "\n",
    "memory = MemorySaver()"
   ]
  },
  {
   "cell_type": "code",
   "execution_count": 25,
   "metadata": {},
   "outputs": [],
   "source": [
    "agent_executor = create_react_agent(model, tools, checkpointer=memory)\n",
    "\n",
    "config = {\"configurable\": {\"thread_id\": \"abc123\"}}"
   ]
  },
  {
   "cell_type": "code",
   "execution_count": 26,
   "metadata": {},
   "outputs": [
    {
     "name": "stdout",
     "output_type": "stream",
     "text": [
      "{'agent': {'messages': [AIMessage(content='Hello Bob! How can I assist you today?', additional_kwargs={'refusal': None}, response_metadata={'token_usage': {'completion_tokens': 11, 'prompt_tokens': 83, 'total_tokens': 94}, 'model_name': 'gpt-4o-2024-05-13', 'system_fingerprint': 'fp_157b3831f5', 'finish_reason': 'stop', 'logprobs': None}, id='run-1109ca2a-1833-4b62-a99d-04810fed4eca-0', usage_metadata={'input_tokens': 83, 'output_tokens': 11, 'total_tokens': 94})]}}\n",
      "----\n"
     ]
    }
   ],
   "source": [
    "for chunk in agent_executor.stream(\n",
    "    {\"messages\": [HumanMessage(content=\"hi im bob!\")]}, config\n",
    "):\n",
    "    print(chunk)\n",
    "    print(\"----\")"
   ]
  },
  {
   "cell_type": "code",
   "execution_count": 27,
   "metadata": {},
   "outputs": [
    {
     "name": "stdout",
     "output_type": "stream",
     "text": [
      "{'agent': {'messages': [AIMessage(content='Your name is Bob! How can I help you today, Bob?', additional_kwargs={'refusal': None}, response_metadata={'token_usage': {'completion_tokens': 15, 'prompt_tokens': 106, 'total_tokens': 121}, 'model_name': 'gpt-4o-2024-05-13', 'system_fingerprint': 'fp_157b3831f5', 'finish_reason': 'stop', 'logprobs': None}, id='run-f49774ac-7476-4f0a-b635-ae445f4143c8-0', usage_metadata={'input_tokens': 106, 'output_tokens': 15, 'total_tokens': 121})]}}\n",
      "----\n"
     ]
    }
   ],
   "source": [
    "for chunk in agent_executor.stream(\n",
    "    {\"messages\": [HumanMessage(content=\"whats my name?\")]}, config\n",
    "):\n",
    "    print(chunk)\n",
    "    print(\"----\")"
   ]
  }
 ],
 "metadata": {
  "kernelspec": {
   "display_name": "Python 3",
   "language": "python",
   "name": "python3"
  },
  "language_info": {
   "codemirror_mode": {
    "name": "ipython",
    "version": 3
   },
   "file_extension": ".py",
   "mimetype": "text/x-python",
   "name": "python",
   "nbconvert_exporter": "python",
   "pygments_lexer": "ipython3",
   "version": "3.12.4"
  }
 },
 "nbformat": 4,
 "nbformat_minor": 2
}
